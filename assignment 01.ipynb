{
 "cells": [
  {
   "cell_type": "code",
   "execution_count": null,
   "metadata": {},
   "outputs": [],
   "source": [
    "# pyhton assignment O1 mchine learning"
   ]
  },
  {
   "cell_type": "code",
   "execution_count": null,
   "metadata": {},
   "outputs": [],
   "source": [
    "#Q-1\n",
    "\n",
    "lst1=[i for i in range(1999,3501) if i%7==0]\n",
    "\n",
    "lst2=[i for i in range(1999,3500) if i%5!=0]    \n",
    "\n",
    "lst3=list(set(lst1).intersection(lst2))\n",
    "print(lst3)"
   ]
  },
  {
   "cell_type": "code",
   "execution_count": null,
   "metadata": {},
   "outputs": [],
   "source": [
    "#Q-2\n",
    "\n",
    "first_name=input(\"What is the first name\")\n",
    "last_name=input(\"What is the last name\")\n",
    "print(last_name,\" \",first_name)\n",
    "         \n",
    "    "
   ]
  },
  {
   "cell_type": "code",
   "execution_count": null,
   "metadata": {},
   "outputs": [],
   "source": [
    "#Q-3\n",
    "\n",
    "r=12/2\n",
    "pi=22/7\n",
    "v=4/3*pi*r**3\n",
    "print(\"The Voloume of the sphere\",v ,\"cm**3\")"
   ]
  },
  {
   "cell_type": "code",
   "execution_count": null,
   "metadata": {},
   "outputs": [],
   "source": []
  }
 ],
 "metadata": {
  "kernelspec": {
   "display_name": "Python 3",
   "language": "python",
   "name": "python3"
  },
  "language_info": {
   "codemirror_mode": {
    "name": "ipython",
    "version": 3
   },
   "file_extension": ".py",
   "mimetype": "text/x-python",
   "name": "python",
   "nbconvert_exporter": "python",
   "pygments_lexer": "ipython3",
   "version": "3.7.1"
  }
 },
 "nbformat": 4,
 "nbformat_minor": 2
}
